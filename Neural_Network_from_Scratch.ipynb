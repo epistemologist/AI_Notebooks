{
  "nbformat": 4,
  "nbformat_minor": 0,
  "metadata": {
    "colab": {
      "provenance": []
    },
    "kernelspec": {
      "name": "python3",
      "display_name": "Python 3"
    },
    "language_info": {
      "name": "python"
    }
  },
  "cells": [
    {
      "cell_type": "markdown",
      "source": [
        "# Neural Network from Scratch\n",
        "\n",
        "Following [Welch Labs' series](https://www.youtube.com/watch?v=bxe2T-V8XRs)  with some modifications\n",
        "\n",
        "## Notes\n",
        "\n",
        "### Forward Pass\n",
        " - $z_2 = X W_1 $\n",
        " - $a_2 = f(z_2)$\n",
        " - $z_3 = a_2 W_2$\n",
        " - $\\hat{y} = f(z_3)$\n",
        "\n",
        "where $f(z) = \\frac{1}{1+e^{-z}}$ is the sigmoid function but generally can be any activation function\n",
        "\n",
        "## Backpropogation / Gradient Descent\n",
        " - $ J = \\frac{1}{2} \\sum (y-\\hat{y})^2$ - quadratic cost function\n",
        "\n",
        " We calculate $\\partial J/ \\partial W_1$ and $ \\partial J/\\partial W_2$\n",
        "\n",
        " $$\\begin{align*}\n",
        "\\partial J/\\partial W_2 &= \\frac{1}{2} \\sum_i \\frac{{\\partial}}{\\partial W_2} (y - \\hat{y}^2) \\\\\n",
        "&= - \\sum_i (y - \\hat{y}) \\frac{\\partial \\hat{y}}{\\partial W_2} \\\\\n",
        "&= - \\sum_i\\;\\; (y - \\hat{y}) \\;\\; \\underbrace{\\frac{\\partial \\hat{y}}{\\partial z_3}}_{=f'(z_3)} \\;\\;\\underbrace{ \\frac{\\partial z_3}{\\partial W_2} }_{z_3 = a_2 W_2}\n",
        "\\\\ && \\text{derivation missing...}\n",
        "\\\\&= a_2^T \\underbrace{ \\left( -(y-\\hat{y}) \\odot f'(z_3) \\right) }_{\\delta_3}\n",
        " \\end{align*}$$\n",
        "\n",
        " and similarly:\n",
        " $$\\begin{align*}\n",
        " \\partial J/\\partial W_1 &= \\frac{1}{2} \\sum_i \\frac{{\\partial}}{\\partial W_1} (y - \\hat{y}^2) \\\\\n",
        " &= - \\sum_i (y - \\hat{y}) \\frac{\\partial \\hat{y}}{\\partial W_1} \\\\\n",
        "&= - \\sum_i\\;\\; (y - \\hat{y}) \\;\\; \\underbrace{\\frac{\\partial \\hat{y}}{\\partial z_3}}_{=f'(z_3)} \\frac{\\partial z_3}{\\partial W_1}   \\end{align*}$$\n",
        "\n",
        "We have:\n",
        "$$\\begin{align*}\n",
        "\\frac{\\partial z_3}{\\partial W_1} = \\underbrace{ \\frac{\\partial z_3}{\\partial a_2}}_{z_3 = a_2 W_2} \\;\\; \\underbrace{ \\frac{\\partial a_2}{\\partial z_2}}_{f'(z_2)} \\;\\; \\underbrace{ \\frac{\\partial z_2}{\\partial w_1}}_{z_2 = X W_1}\n",
        "\\end{align*}$$\n",
        "\n",
        "Altogether, we have (from the Python code)\n",
        "\n",
        "$$ \\frac{\\partial J}{\\partial W} = X^T \\underbrace{ \\delta^3 W_2^T f'(z_2) }_{\\delta_2} $$\n",
        "\n",
        "In what follows, we assume that $y$ only consists of $\\{0,1\\}$ (i.e. we are training the network to do a binary classification task)"
      ],
      "metadata": {
        "id": "l7RxiBOxeU6M"
      }
    },
    {
      "cell_type": "code",
      "source": [
        "# Imports\n",
        "import numpy as np\n",
        "import matplotlib.pyplot as plt\n",
        "from tqdm import tqdm\n",
        "from random import sample\n",
        "from math import inf\n",
        "from typing import Optional\n",
        "\n",
        "np.random.seed(0)"
      ],
      "metadata": {
        "id": "T6Qaqp2OS8qq"
      },
      "execution_count": null,
      "outputs": []
    },
    {
      "cell_type": "code",
      "execution_count": null,
      "metadata": {
        "id": "hky5UbGseRS6"
      },
      "outputs": [],
      "source": [
        "def sigmoid(z):\n",
        "    return 1 / (1 + np.exp(-z))\n",
        "\n",
        "def sigmoid_prime(z):\n",
        "    return sigmoid(z) * (1- sigmoid(z))\n",
        "\n",
        "class NeuralNetwork:\n",
        "    def __init__(self, s1, s2, s3, W1=None, W2=None):\n",
        "        self.s1 = s1\n",
        "        self.s2 = s2\n",
        "        self.s3 = s3\n",
        "        self.W1 = W1 if W1 is not None else np.random.randn(s1, s2)\n",
        "        self.W2 = W2 if W2 is not None else np.random.randn(s2, s3)\n",
        "\n",
        "    def forward(self, X):\n",
        "        z2 = np.dot(X, self.W1)\n",
        "        a2 = sigmoid(z2)\n",
        "        z3 = np.dot(a2, self.W2)\n",
        "        return sigmoid(z3)\n",
        "\n",
        "    def cost_function(self, X, y):\n",
        "        y_hat = self.forward(X)\n",
        "        return 0.5 * np.sum((y - y_hat)**2)\n",
        "\n",
        "    def get_accuracy(self, X, y):\n",
        "        y_hat = self.forward(X) > 0.5\n",
        "        return sum(y == y_hat) / len(y)\n",
        "\n",
        "    def cost_function_prime(self, X, y):\n",
        "        z2 = X @ self.W1\n",
        "        a2 = sigmoid(z2)\n",
        "        z3 = a2 @ self.W2\n",
        "        y_hat = sigmoid(z3)\n",
        "        δ3 = -(y - y_hat) * sigmoid_prime(z3)\n",
        "        dJdW2 = a2.T @ δ3\n",
        "        δ2 = (δ3 @ self.W2.T) * sigmoid_prime(z2)\n",
        "        dJdW1 = X.T @ δ2\n",
        "        return (dJdW1, dJdW2)"
      ]
    },
    {
      "cell_type": "code",
      "source": [
        "# Cheat and start at local minimum\n",
        "NN = NeuralNetwork(\n",
        "    2,2,1,\n",
        "    W1 = np.array([[1., 0.], [0., 1.]]),\n",
        "    W2 = np.array([[0.1, 0.2]]).T\n",
        ")\n",
        "\n",
        "XOR_X = np.array([[0,0], [0,1], [1,0], [1,1]])\n",
        "XOR_Y = np.array([[0,1,1,0]]).T\n",
        "\n",
        "training_x = np.array([[0,0], [0,1]])\n",
        "training_y = np.array([[0,1]]).T\n",
        "\n",
        "pts = []\n",
        "learning_rate = 0.5\n",
        "\n",
        "for iter in tqdm(range(100000)):\n",
        "    W1, W2 = NN.W1, NN.W2\n",
        "    if iter % 100 == 0:\n",
        "        #print(iter, NN.get_accuracy(XOR_X, XOR_Y))\n",
        "        pts.append( ( iter, NN.cost_function(XOR_X, XOR_Y), NN.get_accuracy(XOR_X, XOR_Y) ) )\n",
        "    dJdW1, dJdW2 = NN.cost_function_prime(XOR_X, XOR_Y)\n",
        "    W1 -= learning_rate * dJdW1; W2 -= learning_rate * dJdW2\n",
        "    NN.W1 = W1; NN.W2 = W2\n",
        "\n",
        "plt.plot([i[0] for i in pts], [i[1] for i in pts])\n",
        "plt.plot([i[0] for i in pts], [i[2] for i in pts])\n",
        "print(NN.forward(np.array([[0,0], [0,1], [1,0], [1,1]])))"
      ],
      "metadata": {
        "colab": {
          "base_uri": "https://localhost:8080/",
          "height": 519
        },
        "id": "UlZ2mZ9N5RBL",
        "outputId": "30cff4c2-3c83-487c-aa21-cc6a41682002"
      },
      "execution_count": null,
      "outputs": [
        {
          "output_type": "stream",
          "name": "stderr",
          "text": [
            "100%|██████████| 100000/100000 [00:19<00:00, 5185.15it/s]\n"
          ]
        },
        {
          "output_type": "stream",
          "name": "stdout",
          "text": [
            "[[0.01066416]\n",
            " [0.97116477]\n",
            " [0.97116471]\n",
            " [0.03871334]]\n"
          ]
        },
        {
          "output_type": "display_data",
          "data": {
            "text/plain": [
              "<Figure size 640x480 with 1 Axes>"
            ],
            "image/png": "[encoded data removed]"
          },
          "metadata": {}
        }
      ]
    },
    {
      "cell_type": "code",
      "source": [
        "# Train neural network on binary classification task\n",
        "class Trainer:\n",
        "    def __init__(self, x_train, y_train, neural_network: NeuralNetwork):\n",
        "        self.x_train = x_train # of shape (mxn) 4x\n",
        "        self.y_train = y_train # of shape (mx1) 4x1\n",
        "        assert x_train.shape[0] == y_train.shape[0]\n",
        "        self.num_samples = y_train.shape[0]\n",
        "        self.neural_network = neural_network # input has n layers, output shoud have 1 layer\n",
        "        self.accuracies = []\n",
        "        self.cost_function_vals = []\n",
        "\n",
        "    def train(self,\n",
        "              learning_rate: float,\n",
        "              epochs: int,\n",
        "              iters: int,\n",
        "              batch_size: Optional[int] = None\n",
        "        ):\n",
        "        for epoch in range(epochs):\n",
        "            sample_idx = batch_size if batch_size is None else sample( range(self.num_samples), k=min(batch_size, self.num_samples) )\n",
        "            x_batch = self.x_train[sample_idx, :] if sample_idx else self.x_train\n",
        "            y_batch = self.y_train[sample_idx, :] if sample_idx else self.y_train\n",
        "            for i in tqdm(range(iters//epochs)):\n",
        "                W1, W2 = self.neural_network.W1, self.neural_network.W2\n",
        "                dJdW1, dJdW2 = self.neural_network.cost_function_prime(x_batch, y_batch)\n",
        "                W1 -= learning_rate * dJdW1; W2 -= learning_rate * dJdW2\n",
        "                self.neural_network.W1 = W1; self.neural_network.W2 = W2\n",
        "            self.accuracies.append(self.neural_network.get_accuracy(self.x_train, self.y_train))\n",
        "            self.cost_function_vals.append(self.neural_network.cost_function(self.x_train, self.y_train))\n",
        "\n",
        "    def plot_cost_function(self):\n",
        "        plt.plot(self.cost_function_vals)\n",
        "        plt.show()\n",
        "\n",
        "    def test(self, x_test, y_test):\n",
        "        return self.neural_network.get_accuracy(x_test, y_test)"
      ],
      "metadata": {
        "id": "afjjMmJzfdy_"
      },
      "execution_count": null,
      "outputs": []
    },
    {
      "cell_type": "code",
      "source": [
        "# Example 1: XOR\n",
        "\n",
        "# Cheat and start at local minimum\n",
        "net = NeuralNetwork(\n",
        "    2,2,1,\n",
        "    W1 = np.array([[1., 0.], [0., 1.]]),\n",
        "    W2 = np.array([[0.1, 0.2]]).T\n",
        ")\n",
        "\n",
        "XOR_X = np.array([[0,0], [0,1], [1,0], [1,1]])\n",
        "XOR_Y = np.array([[0,1,1,0]]).T\n",
        "\n",
        "trainer = Trainer(\n",
        "    x_train = XOR_X,\n",
        "    y_train = XOR_Y,\n",
        "    neural_network=net\n",
        ")\n",
        "\n",
        "trainer.train(learning_rate = 0.5, epochs = 10, iters=100000)\n",
        "trainer.plot_cost_function()\n",
        "print(trainer.test(XOR_X, XOR_Y))"
      ],
      "metadata": {
        "colab": {
          "base_uri": "https://localhost:8080/",
          "height": 627
        },
        "id": "jjBCdkM8RWnz",
        "outputId": "23ac315a-ebf1-4ec1-efc4-2dd6d703d5a4"
      },
      "execution_count": null,
      "outputs": [
        {
          "output_type": "stream",
          "name": "stderr",
          "text": [
            "100%|██████████| 10000/10000 [00:00<00:00, 12537.41it/s]\n",
            "100%|██████████| 10000/10000 [00:00<00:00, 12706.81it/s]\n",
            "100%|██████████| 10000/10000 [00:00<00:00, 11298.18it/s]\n",
            "100%|██████████| 10000/10000 [00:01<00:00, 9986.03it/s]\n",
            "100%|██████████| 10000/10000 [00:01<00:00, 7992.15it/s]\n",
            "100%|██████████| 10000/10000 [00:01<00:00, 8775.93it/s]\n",
            "100%|██████████| 10000/10000 [00:00<00:00, 10931.26it/s]\n",
            "100%|██████████| 10000/10000 [00:01<00:00, 9525.96it/s]\n",
            "100%|██████████| 10000/10000 [00:00<00:00, 11099.50it/s]\n",
            "100%|██████████| 10000/10000 [00:00<00:00, 15416.39it/s]\n"
          ]
        },
        {
          "output_type": "display_data",
          "data": {
            "text/plain": [
              "<Figure size 640x480 with 1 Axes>"
            ],
            "image/png": "[encoded data removed]"
          },
          "metadata": {}
        },
        {
          "output_type": "stream",
          "name": "stdout",
          "text": [
            "[1.]\n"
          ]
        }
      ]
    },
    {
      "cell_type": "code",
      "source": [
        "# Example 2: Boolean function\n",
        "# Here we test if a neural network can be trained on the 3 bit boolean function\n",
        "# F(PQR) = 1 if PQR is prime, 0 otherwise\n",
        "\n",
        "primes = {2,3,5,7}\n",
        "\n",
        "from itertools import product\n",
        "\n",
        "training_data = np.array( [[p,q,r,int(4*p+2*q+r in primes)] for p,q,r in product((0,1), repeat=3)] )\n",
        "X_train = training_data[:, :3]\n",
        "Y_train = training_data[:, 3:]\n",
        "\n",
        "net = NeuralNetwork(3,4,1)\n",
        "\n",
        "trainer2 = Trainer(\n",
        "    x_train = X_train,\n",
        "    y_train = Y_train,\n",
        "    neural_network=net\n",
        ")\n",
        "\n",
        "trainer2.train(learning_rate = 0.05, epochs=10, iters=10000)\n",
        "trainer2.plot_cost_function()\n",
        "print(trainer2.test(X_train, Y_train))\n",
        "print(Y_train.shape)"
      ],
      "metadata": {
        "colab": {
          "base_uri": "https://localhost:8080/",
          "height": 644
        },
        "id": "ZL0XvquszoGO",
        "outputId": "5b25ff66-8305-4825-b40a-c75acae164c3"
      },
      "execution_count": null,
      "outputs": [
        {
          "output_type": "stream",
          "name": "stderr",
          "text": [
            "100%|██████████| 1000/1000 [00:00<00:00, 7981.59it/s]\n",
            "100%|██████████| 1000/1000 [00:00<00:00, 8330.97it/s]\n",
            "100%|██████████| 1000/1000 [00:00<00:00, 6849.29it/s]\n",
            "100%|██████████| 1000/1000 [00:00<00:00, 5815.59it/s]\n",
            "100%|██████████| 1000/1000 [00:00<00:00, 8783.51it/s]\n",
            "100%|██████████| 1000/1000 [00:00<00:00, 9471.55it/s]\n",
            "100%|██████████| 1000/1000 [00:00<00:00, 8995.81it/s]\n",
            "100%|██████████| 1000/1000 [00:00<00:00, 10108.56it/s]\n",
            "100%|██████████| 1000/1000 [00:00<00:00, 9131.33it/s]\n",
            "100%|██████████| 1000/1000 [00:00<00:00, 10695.34it/s]\n"
          ]
        },
        {
          "output_type": "display_data",
          "data": {
            "text/plain": [
              "<Figure size 640x480 with 1 Axes>"
            ],
            "image/png": "[encoded data removed]"
          },
          "metadata": {}
        },
        {
          "output_type": "stream",
          "name": "stdout",
          "text": [
            "[1.]\n",
            "(8, 1)\n"
          ]
        }
      ]
    },
    {
      "cell_type": "code",
      "source": [
        "# Example 3: MNIST classifier\n",
        "# We classify whether or not a digit is a zero or not\n",
        "\n",
        "from keras.datasets import mnist\n",
        "(x_train, y_train), (x_test, y_test) = mnist.load_data()\n",
        "\n",
        "x_train = x_train.reshape((x_train.shape[0], 784)) / 256\n",
        "x_test = x_test.reshape((x_test.shape[0], 784)) / 256\n",
        "y_train = np.array( [(y_train == 0)] ).transpose()\n",
        "y_test = np.array( [(y_test == 0)] ).transpose()\n",
        "\n",
        "\n",
        "net = NeuralNetwork(784, 50, 1)\n",
        "trainer3 = Trainer(\n",
        "    x_train = x_train,\n",
        "    y_train = y_train,\n",
        "    neural_network=net\n",
        ")\n",
        "\n",
        "trainer3.train(learning_rate = 0.025, epochs=20, iters=10000, batch_size = 10000)\n",
        "trainer3.plot_cost_function()\n",
        "trainer3.test(x_test,y_test)"
      ],
      "metadata": {
        "colab": {
          "base_uri": "https://localhost:8080/",
          "height": 805
        },
        "id": "hN9g8pydAj7P",
        "outputId": "1eb12c95-2867-4c35-ef2f-3789f0de7cf5"
      },
      "execution_count": null,
      "outputs": [
        {
          "output_type": "stream",
          "name": "stderr",
          "text": [
            "100%|██████████| 500/500 [01:22<00:00,  6.03it/s]\n",
            "100%|██████████| 500/500 [01:23<00:00,  5.97it/s]\n",
            "100%|██████████| 500/500 [01:22<00:00,  6.09it/s]\n",
            "100%|██████████| 500/500 [01:23<00:00,  5.96it/s]\n",
            "100%|██████████| 500/500 [01:21<00:00,  6.12it/s]\n",
            "100%|██████████| 500/500 [01:26<00:00,  5.81it/s]\n",
            "100%|██████████| 500/500 [01:22<00:00,  6.09it/s]\n",
            "100%|██████████| 500/500 [01:24<00:00,  5.93it/s]\n",
            "100%|██████████| 500/500 [01:21<00:00,  6.10it/s]\n",
            "100%|██████████| 500/500 [01:24<00:00,  5.92it/s]\n",
            "100%|██████████| 500/500 [01:22<00:00,  6.06it/s]\n",
            "100%|██████████| 500/500 [01:24<00:00,  5.92it/s]\n",
            "100%|██████████| 500/500 [01:22<00:00,  6.10it/s]\n",
            "100%|██████████| 500/500 [01:25<00:00,  5.85it/s]\n",
            "100%|██████████| 500/500 [01:24<00:00,  5.92it/s]\n",
            "100%|██████████| 500/500 [01:27<00:00,  5.69it/s]\n",
            "100%|██████████| 500/500 [01:23<00:00,  6.02it/s]\n",
            "100%|██████████| 500/500 [01:27<00:00,  5.74it/s]\n",
            "100%|██████████| 500/500 [01:23<00:00,  5.96it/s]\n",
            "100%|██████████| 500/500 [01:24<00:00,  5.93it/s]\n"
          ]
        },
        {
          "output_type": "display_data",
          "data": {
            "text/plain": [
              "<Figure size 640x480 with 1 Axes>"
            ],
            "image/png": "[encoded data removed]"
          },
          "metadata": {}
        },
        {
          "output_type": "execute_result",
          "data": {
            "text/plain": [
              "array([0.902])"
            ]
          },
          "metadata": {},
          "execution_count": 8
        }
      ]
    },
    {
      "cell_type": "code",
      "source": [],
      "metadata": {
        "id": "b3wRS0gW8ns4"
      },
      "execution_count": null,
      "outputs": []
    }
  ]
}